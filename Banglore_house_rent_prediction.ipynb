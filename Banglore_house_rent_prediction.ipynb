{
 "cells": [
  {
   "cell_type": "markdown",
   "metadata": {
    "colab_type": "text",
    "id": "uJ--pdYk6zOt"
   },
   "source": []
  },
  {
   "cell_type": "code",
   "execution_count": 1,
   "metadata": {
    "colab": {},
    "colab_type": "code",
    "id": "ePQeByRw8KTI"
   },
   "outputs": [
    {
     "name": "stderr",
     "output_type": "stream",
     "text": [
      "C:\\Users\\antra\\Anaconda3\\lib\\site-packages\\sklearn\\cross_validation.py:41: DeprecationWarning: This module was deprecated in version 0.18 in favor of the model_selection module into which all the refactored classes and functions are moved. Also note that the interface of the new CV iterators are different from that of this module. This module will be removed in 0.20.\n",
      "  \"This module will be removed in 0.20.\", DeprecationWarning)\n"
     ]
    }
   ],
   "source": [
    "# Import libraries necessary for this project\n",
    "import numpy as np\n",
    "import pandas as pd\n",
    "import pickle\n",
    "from sklearn.cross_validation import ShuffleSplit\n",
    "\n",
    "# Pretty display for notebooks\n",
    "%matplotlib inline"
   ]
  },
  {
   "cell_type": "code",
   "execution_count": 2,
   "metadata": {
    "colab": {},
    "colab_type": "code",
    "collapsed": true,
    "id": "a-gkUobW8bNp"
   },
   "outputs": [],
   "source": [
    "data = pd.read_csv('DataSet_pricing_model.csv')"
   ]
  },
  {
   "cell_type": "code",
   "execution_count": 3,
   "metadata": {
    "colab": {},
    "colab_type": "code",
    "collapsed": true,
    "id": "A9hv7Vzd8b93"
   },
   "outputs": [],
   "source": [
    "features_corelated = ['longitude', 'latitude', 'gym', 'lift', 'swimming_pool', 'property_size', 'bathroom', 'floor', 'total_floor', 'balconies', 'building_type', 'parking', 'type']"
   ]
  },
  {
   "cell_type": "code",
   "execution_count": 4,
   "metadata": {
    "colab": {},
    "colab_type": "code",
    "collapsed": true,
    "id": "ekWolxkz-974"
   },
   "outputs": [],
   "source": [
    "y = data['rent']"
   ]
  },
  {
   "cell_type": "code",
   "execution_count": 5,
   "metadata": {
    "colab": {},
    "colab_type": "code",
    "collapsed": true,
    "id": "Mpmp8B7E--tZ"
   },
   "outputs": [],
   "source": [
    "one_hot_encoded_features = pd.get_dummies(data[features_corelated])"
   ]
  },
  {
   "cell_type": "code",
   "execution_count": 6,
   "metadata": {
    "colab": {
     "base_uri": "https://localhost:8080/",
     "height": 350
    },
    "colab_type": "code",
    "id": "EmDULBlyeTk3",
    "outputId": "ba3a2eee-b08f-41b9-da93-3d37857cbda3"
   },
   "outputs": [
    {
     "data": {
      "text/html": [
       "<div>\n",
       "<style scoped>\n",
       "    .dataframe tbody tr th:only-of-type {\n",
       "        vertical-align: middle;\n",
       "    }\n",
       "\n",
       "    .dataframe tbody tr th {\n",
       "        vertical-align: top;\n",
       "    }\n",
       "\n",
       "    .dataframe thead th {\n",
       "        text-align: right;\n",
       "    }\n",
       "</style>\n",
       "<table border=\"1\" class=\"dataframe\">\n",
       "  <thead>\n",
       "    <tr style=\"text-align: right;\">\n",
       "      <th></th>\n",
       "      <th>longitude</th>\n",
       "      <th>latitude</th>\n",
       "      <th>gym</th>\n",
       "      <th>lift</th>\n",
       "      <th>swimming_pool</th>\n",
       "      <th>property_size</th>\n",
       "      <th>bathroom</th>\n",
       "      <th>floor</th>\n",
       "      <th>total_floor</th>\n",
       "      <th>balconies</th>\n",
       "      <th>...</th>\n",
       "      <th>parking_BOTH</th>\n",
       "      <th>parking_FOUR_WHEELER</th>\n",
       "      <th>parking_NONE</th>\n",
       "      <th>parking_TWO_WHEELER</th>\n",
       "      <th>type_BHK1</th>\n",
       "      <th>type_BHK2</th>\n",
       "      <th>type_BHK3</th>\n",
       "      <th>type_BHK4</th>\n",
       "      <th>type_BHK4PLUS</th>\n",
       "      <th>type_RK1</th>\n",
       "    </tr>\n",
       "  </thead>\n",
       "  <tbody>\n",
       "    <tr>\n",
       "      <th>count</th>\n",
       "      <td>25000.000000</td>\n",
       "      <td>25000.000000</td>\n",
       "      <td>25000.00000</td>\n",
       "      <td>25000.000000</td>\n",
       "      <td>25000.000000</td>\n",
       "      <td>25000.000000</td>\n",
       "      <td>25000.000000</td>\n",
       "      <td>25000.000000</td>\n",
       "      <td>25000.000000</td>\n",
       "      <td>25000.00000</td>\n",
       "      <td>...</td>\n",
       "      <td>25000.000000</td>\n",
       "      <td>25000.000000</td>\n",
       "      <td>25000.000000</td>\n",
       "      <td>25000.000000</td>\n",
       "      <td>25000.000000</td>\n",
       "      <td>25000.000000</td>\n",
       "      <td>25000.000000</td>\n",
       "      <td>25000.000000</td>\n",
       "      <td>25000.000000</td>\n",
       "      <td>25000.000000</td>\n",
       "    </tr>\n",
       "    <tr>\n",
       "      <th>mean</th>\n",
       "      <td>77.637447</td>\n",
       "      <td>12.945900</td>\n",
       "      <td>0.22608</td>\n",
       "      <td>0.362440</td>\n",
       "      <td>0.174600</td>\n",
       "      <td>1063.764160</td>\n",
       "      <td>1.861120</td>\n",
       "      <td>1.881600</td>\n",
       "      <td>3.810480</td>\n",
       "      <td>1.15212</td>\n",
       "      <td>...</td>\n",
       "      <td>0.528680</td>\n",
       "      <td>0.069400</td>\n",
       "      <td>0.051160</td>\n",
       "      <td>0.350760</td>\n",
       "      <td>0.176360</td>\n",
       "      <td>0.568120</td>\n",
       "      <td>0.215720</td>\n",
       "      <td>0.011960</td>\n",
       "      <td>0.001520</td>\n",
       "      <td>0.026320</td>\n",
       "    </tr>\n",
       "    <tr>\n",
       "      <th>std</th>\n",
       "      <td>0.111732</td>\n",
       "      <td>0.029613</td>\n",
       "      <td>0.41830</td>\n",
       "      <td>0.480715</td>\n",
       "      <td>0.379632</td>\n",
       "      <td>591.174731</td>\n",
       "      <td>0.759589</td>\n",
       "      <td>2.187879</td>\n",
       "      <td>3.201751</td>\n",
       "      <td>1.00891</td>\n",
       "      <td>...</td>\n",
       "      <td>0.499187</td>\n",
       "      <td>0.254138</td>\n",
       "      <td>0.220328</td>\n",
       "      <td>0.477217</td>\n",
       "      <td>0.381134</td>\n",
       "      <td>0.495348</td>\n",
       "      <td>0.411329</td>\n",
       "      <td>0.108708</td>\n",
       "      <td>0.038958</td>\n",
       "      <td>0.160088</td>\n",
       "    </tr>\n",
       "    <tr>\n",
       "      <th>min</th>\n",
       "      <td>77.500072</td>\n",
       "      <td>12.900004</td>\n",
       "      <td>0.00000</td>\n",
       "      <td>0.000000</td>\n",
       "      <td>0.000000</td>\n",
       "      <td>1.000000</td>\n",
       "      <td>1.000000</td>\n",
       "      <td>0.000000</td>\n",
       "      <td>0.000000</td>\n",
       "      <td>0.00000</td>\n",
       "      <td>...</td>\n",
       "      <td>0.000000</td>\n",
       "      <td>0.000000</td>\n",
       "      <td>0.000000</td>\n",
       "      <td>0.000000</td>\n",
       "      <td>0.000000</td>\n",
       "      <td>0.000000</td>\n",
       "      <td>0.000000</td>\n",
       "      <td>0.000000</td>\n",
       "      <td>0.000000</td>\n",
       "      <td>0.000000</td>\n",
       "    </tr>\n",
       "    <tr>\n",
       "      <th>25%</th>\n",
       "      <td>77.571956</td>\n",
       "      <td>12.918511</td>\n",
       "      <td>0.00000</td>\n",
       "      <td>0.000000</td>\n",
       "      <td>0.000000</td>\n",
       "      <td>700.000000</td>\n",
       "      <td>1.000000</td>\n",
       "      <td>1.000000</td>\n",
       "      <td>2.000000</td>\n",
       "      <td>0.00000</td>\n",
       "      <td>...</td>\n",
       "      <td>0.000000</td>\n",
       "      <td>0.000000</td>\n",
       "      <td>0.000000</td>\n",
       "      <td>0.000000</td>\n",
       "      <td>0.000000</td>\n",
       "      <td>0.000000</td>\n",
       "      <td>0.000000</td>\n",
       "      <td>0.000000</td>\n",
       "      <td>0.000000</td>\n",
       "      <td>0.000000</td>\n",
       "    </tr>\n",
       "    <tr>\n",
       "      <th>50%</th>\n",
       "      <td>77.633363</td>\n",
       "      <td>12.943927</td>\n",
       "      <td>0.00000</td>\n",
       "      <td>0.000000</td>\n",
       "      <td>0.000000</td>\n",
       "      <td>1050.000000</td>\n",
       "      <td>2.000000</td>\n",
       "      <td>1.000000</td>\n",
       "      <td>3.000000</td>\n",
       "      <td>1.00000</td>\n",
       "      <td>...</td>\n",
       "      <td>1.000000</td>\n",
       "      <td>0.000000</td>\n",
       "      <td>0.000000</td>\n",
       "      <td>0.000000</td>\n",
       "      <td>0.000000</td>\n",
       "      <td>1.000000</td>\n",
       "      <td>0.000000</td>\n",
       "      <td>0.000000</td>\n",
       "      <td>0.000000</td>\n",
       "      <td>0.000000</td>\n",
       "    </tr>\n",
       "    <tr>\n",
       "      <th>75%</th>\n",
       "      <td>77.695972</td>\n",
       "      <td>12.971114</td>\n",
       "      <td>0.00000</td>\n",
       "      <td>1.000000</td>\n",
       "      <td>0.000000</td>\n",
       "      <td>1290.000000</td>\n",
       "      <td>2.000000</td>\n",
       "      <td>3.000000</td>\n",
       "      <td>4.000000</td>\n",
       "      <td>2.00000</td>\n",
       "      <td>...</td>\n",
       "      <td>1.000000</td>\n",
       "      <td>0.000000</td>\n",
       "      <td>0.000000</td>\n",
       "      <td>1.000000</td>\n",
       "      <td>0.000000</td>\n",
       "      <td>1.000000</td>\n",
       "      <td>0.000000</td>\n",
       "      <td>0.000000</td>\n",
       "      <td>0.000000</td>\n",
       "      <td>0.000000</td>\n",
       "    </tr>\n",
       "    <tr>\n",
       "      <th>max</th>\n",
       "      <td>80.266346</td>\n",
       "      <td>12.999999</td>\n",
       "      <td>1.00000</td>\n",
       "      <td>1.000000</td>\n",
       "      <td>1.000000</td>\n",
       "      <td>50000.000000</td>\n",
       "      <td>34.000000</td>\n",
       "      <td>25.000000</td>\n",
       "      <td>50.000000</td>\n",
       "      <td>22.00000</td>\n",
       "      <td>...</td>\n",
       "      <td>1.000000</td>\n",
       "      <td>1.000000</td>\n",
       "      <td>1.000000</td>\n",
       "      <td>1.000000</td>\n",
       "      <td>1.000000</td>\n",
       "      <td>1.000000</td>\n",
       "      <td>1.000000</td>\n",
       "      <td>1.000000</td>\n",
       "      <td>1.000000</td>\n",
       "      <td>1.000000</td>\n",
       "    </tr>\n",
       "  </tbody>\n",
       "</table>\n",
       "<p>8 rows × 24 columns</p>\n",
       "</div>"
      ],
      "text/plain": [
       "          longitude      latitude          gym          lift  swimming_pool  \\\n",
       "count  25000.000000  25000.000000  25000.00000  25000.000000   25000.000000   \n",
       "mean      77.637447     12.945900      0.22608      0.362440       0.174600   \n",
       "std        0.111732      0.029613      0.41830      0.480715       0.379632   \n",
       "min       77.500072     12.900004      0.00000      0.000000       0.000000   \n",
       "25%       77.571956     12.918511      0.00000      0.000000       0.000000   \n",
       "50%       77.633363     12.943927      0.00000      0.000000       0.000000   \n",
       "75%       77.695972     12.971114      0.00000      1.000000       0.000000   \n",
       "max       80.266346     12.999999      1.00000      1.000000       1.000000   \n",
       "\n",
       "       property_size      bathroom         floor   total_floor    balconies  \\\n",
       "count   25000.000000  25000.000000  25000.000000  25000.000000  25000.00000   \n",
       "mean     1063.764160      1.861120      1.881600      3.810480      1.15212   \n",
       "std       591.174731      0.759589      2.187879      3.201751      1.00891   \n",
       "min         1.000000      1.000000      0.000000      0.000000      0.00000   \n",
       "25%       700.000000      1.000000      1.000000      2.000000      0.00000   \n",
       "50%      1050.000000      2.000000      1.000000      3.000000      1.00000   \n",
       "75%      1290.000000      2.000000      3.000000      4.000000      2.00000   \n",
       "max     50000.000000     34.000000     25.000000     50.000000     22.00000   \n",
       "\n",
       "           ...       parking_BOTH  parking_FOUR_WHEELER  parking_NONE  \\\n",
       "count      ...       25000.000000          25000.000000  25000.000000   \n",
       "mean       ...           0.528680              0.069400      0.051160   \n",
       "std        ...           0.499187              0.254138      0.220328   \n",
       "min        ...           0.000000              0.000000      0.000000   \n",
       "25%        ...           0.000000              0.000000      0.000000   \n",
       "50%        ...           1.000000              0.000000      0.000000   \n",
       "75%        ...           1.000000              0.000000      0.000000   \n",
       "max        ...           1.000000              1.000000      1.000000   \n",
       "\n",
       "       parking_TWO_WHEELER     type_BHK1     type_BHK2     type_BHK3  \\\n",
       "count         25000.000000  25000.000000  25000.000000  25000.000000   \n",
       "mean              0.350760      0.176360      0.568120      0.215720   \n",
       "std               0.477217      0.381134      0.495348      0.411329   \n",
       "min               0.000000      0.000000      0.000000      0.000000   \n",
       "25%               0.000000      0.000000      0.000000      0.000000   \n",
       "50%               0.000000      0.000000      1.000000      0.000000   \n",
       "75%               1.000000      0.000000      1.000000      0.000000   \n",
       "max               1.000000      1.000000      1.000000      1.000000   \n",
       "\n",
       "          type_BHK4  type_BHK4PLUS      type_RK1  \n",
       "count  25000.000000   25000.000000  25000.000000  \n",
       "mean       0.011960       0.001520      0.026320  \n",
       "std        0.108708       0.038958      0.160088  \n",
       "min        0.000000       0.000000      0.000000  \n",
       "25%        0.000000       0.000000      0.000000  \n",
       "50%        0.000000       0.000000      0.000000  \n",
       "75%        0.000000       0.000000      0.000000  \n",
       "max        1.000000       1.000000      1.000000  \n",
       "\n",
       "[8 rows x 24 columns]"
      ]
     },
     "execution_count": 6,
     "metadata": {},
     "output_type": "execute_result"
    }
   ],
   "source": [
    "one_hot_encoded_features.describe()"
   ]
  },
  {
   "cell_type": "code",
   "execution_count": 7,
   "metadata": {
    "colab": {},
    "colab_type": "code",
    "collapsed": true,
    "id": "iWWqmbSc_NDh"
   },
   "outputs": [],
   "source": [
    "# Split into validation and training data\n",
    "from sklearn.model_selection import train_test_split\n",
    "train_X, val_X, train_y, val_y = train_test_split(one_hot_encoded_features, y, test_size=0.2)\n",
    "\n"
   ]
  },
  {
   "cell_type": "code",
   "execution_count": 8,
   "metadata": {
    "colab": {
     "base_uri": "https://localhost:8080/",
     "height": 52
    },
    "colab_type": "code",
    "id": "0o7pnjim_aFY",
    "outputId": "0ad83efc-d14f-4734-9c3d-11fc17c4a54d"
   },
   "outputs": [
    {
     "name": "stdout",
     "output_type": "stream",
     "text": [
      "train_accuracy:  0.8095777207736138\n",
      "val_accuracy:  0.8059673632938698\n"
     ]
    }
   ],
   "source": [
    "from xgboost import XGBRegressor\n",
    "\n",
    "xgb_model = XGBRegressor(n_estimators=1000, learning_rate=0.05)\n",
    "xgb_model.fit(train_X, train_y, early_stopping_rounds=5, \n",
    "             eval_set=[(val_X, val_y)], verbose=False)\n",
    "val_predictions = xgb_model.predict(val_X)\n",
    "\n",
    "\n",
    "\n",
    "from sklearn.metrics import mean_absolute_error\n",
    "\n",
    "train_accuracy = xgb_model.score(train_X, train_y)\n",
    "val_accuracy = xgb_model.score(val_X, val_y)\n",
    "print('train_accuracy: ',train_accuracy)\n",
    "print('val_accuracy: ',val_accuracy)"
   ]
  },
  {
   "cell_type": "code",
   "execution_count": 9,
   "metadata": {
    "colab": {},
    "colab_type": "code",
    "collapsed": true,
    "id": "J_eaP3b5_x7s"
   },
   "outputs": [],
   "source": [
    "# save model\n",
    "# save the classifier\n",
    "with open('model.pkl', 'wb') as fid:\n",
    "    pickle.dump(xgb_model, fid)    \n",
    "\n",
    "# load it again\n",
    "with open('model.pkl', 'rb') as fid:\n",
    "    xgb_model_saved = pickle.load(fid)"
   ]
  },
  {
   "cell_type": "code",
   "execution_count": 9,
   "metadata": {
    "colab": {
     "base_uri": "https://localhost:8080/",
     "height": 206
    },
    "colab_type": "code",
    "id": "udHKujuBAeVD",
    "outputId": "2ca7d2a8-bd0f-44ff-bb39-521d989c2b31"
   },
   "outputs": [
    {
     "data": {
      "text/html": [
       "<div>\n",
       "<style scoped>\n",
       "    .dataframe tbody tr th:only-of-type {\n",
       "        vertical-align: middle;\n",
       "    }\n",
       "\n",
       "    .dataframe tbody tr th {\n",
       "        vertical-align: top;\n",
       "    }\n",
       "\n",
       "    .dataframe thead th {\n",
       "        text-align: right;\n",
       "    }\n",
       "</style>\n",
       "<table border=\"1\" class=\"dataframe\">\n",
       "  <thead>\n",
       "    <tr style=\"text-align: right;\">\n",
       "      <th></th>\n",
       "      <th>longitude</th>\n",
       "      <th>latitude</th>\n",
       "      <th>gym</th>\n",
       "      <th>lift</th>\n",
       "      <th>swimming_pool</th>\n",
       "      <th>property_size</th>\n",
       "      <th>bathroom</th>\n",
       "      <th>floor</th>\n",
       "      <th>total_floor</th>\n",
       "      <th>balconies</th>\n",
       "      <th>building_type</th>\n",
       "      <th>parking</th>\n",
       "      <th>type</th>\n",
       "    </tr>\n",
       "  </thead>\n",
       "  <tbody>\n",
       "    <tr>\n",
       "      <th>0</th>\n",
       "      <td>77.576914</td>\n",
       "      <td>12.936601</td>\n",
       "      <td>0</td>\n",
       "      <td>0</td>\n",
       "      <td>0</td>\n",
       "      <td>1000</td>\n",
       "      <td>2</td>\n",
       "      <td>2</td>\n",
       "      <td>2.0</td>\n",
       "      <td>1.0</td>\n",
       "      <td>IF</td>\n",
       "      <td>TWO_WHEELER</td>\n",
       "      <td>BHK2</td>\n",
       "    </tr>\n",
       "    <tr>\n",
       "      <th>1</th>\n",
       "      <td>77.545219</td>\n",
       "      <td>12.997989</td>\n",
       "      <td>0</td>\n",
       "      <td>0</td>\n",
       "      <td>0</td>\n",
       "      <td>1218</td>\n",
       "      <td>3</td>\n",
       "      <td>0</td>\n",
       "      <td>1.0</td>\n",
       "      <td>0.0</td>\n",
       "      <td>IH</td>\n",
       "      <td>BOTH</td>\n",
       "      <td>BHK2</td>\n",
       "    </tr>\n",
       "    <tr>\n",
       "      <th>2</th>\n",
       "      <td>77.587642</td>\n",
       "      <td>12.935696</td>\n",
       "      <td>0</td>\n",
       "      <td>1</td>\n",
       "      <td>0</td>\n",
       "      <td>1820</td>\n",
       "      <td>3</td>\n",
       "      <td>4</td>\n",
       "      <td>9.0</td>\n",
       "      <td>2.0</td>\n",
       "      <td>AP</td>\n",
       "      <td>BOTH</td>\n",
       "      <td>BHK3</td>\n",
       "    </tr>\n",
       "    <tr>\n",
       "      <th>3</th>\n",
       "      <td>77.656118</td>\n",
       "      <td>12.953507</td>\n",
       "      <td>0</td>\n",
       "      <td>1</td>\n",
       "      <td>0</td>\n",
       "      <td>1100</td>\n",
       "      <td>2</td>\n",
       "      <td>4</td>\n",
       "      <td>4.0</td>\n",
       "      <td>1.0</td>\n",
       "      <td>AP</td>\n",
       "      <td>BOTH</td>\n",
       "      <td>BHK2</td>\n",
       "    </tr>\n",
       "    <tr>\n",
       "      <th>4</th>\n",
       "      <td>77.742436</td>\n",
       "      <td>12.968520</td>\n",
       "      <td>1</td>\n",
       "      <td>1</td>\n",
       "      <td>1</td>\n",
       "      <td>1475</td>\n",
       "      <td>2</td>\n",
       "      <td>1</td>\n",
       "      <td>9.0</td>\n",
       "      <td>2.0</td>\n",
       "      <td>AP</td>\n",
       "      <td>BOTH</td>\n",
       "      <td>BHK2</td>\n",
       "    </tr>\n",
       "  </tbody>\n",
       "</table>\n",
       "</div>"
      ],
      "text/plain": [
       "   longitude   latitude  gym  lift  swimming_pool  property_size  bathroom  \\\n",
       "0  77.576914  12.936601    0     0              0           1000         2   \n",
       "1  77.545219  12.997989    0     0              0           1218         3   \n",
       "2  77.587642  12.935696    0     1              0           1820         3   \n",
       "3  77.656118  12.953507    0     1              0           1100         2   \n",
       "4  77.742436  12.968520    1     1              1           1475         2   \n",
       "\n",
       "   floor  total_floor  balconies building_type      parking  type  \n",
       "0      2          2.0        1.0            IF  TWO_WHEELER  BHK2  \n",
       "1      0          1.0        0.0            IH         BOTH  BHK2  \n",
       "2      4          9.0        2.0            AP         BOTH  BHK3  \n",
       "3      4          4.0        1.0            AP         BOTH  BHK2  \n",
       "4      1          9.0        2.0            AP         BOTH  BHK2  "
      ]
     },
     "execution_count": 9,
     "metadata": {},
     "output_type": "execute_result"
    }
   ],
   "source": [
    "data[features_corelated].head()"
   ]
  },
  {
   "cell_type": "code",
   "execution_count": 10,
   "metadata": {
    "colab": {
     "base_uri": "https://localhost:8080/",
     "height": 486
    },
    "colab_type": "code",
    "id": "MifIPg_1BHV2",
    "outputId": "7d84cd06-f084-4c71-f022-1696a26a3e76"
   },
   "outputs": [
    {
     "data": {
      "text/plain": [
       "id                                  ff8081815917971401591af8895032d0\n",
       "type                                                            BHK2\n",
       "locality                                                  Jayanagara\n",
       "activation_date                                  2018-07-05 17:09:49\n",
       "latitude                                                     12.9366\n",
       "longitude                                                    77.5769\n",
       "lease_type                                                    FAMILY\n",
       "gym                                                                0\n",
       "lift                                                               0\n",
       "swimming_pool                                                      0\n",
       "negotiable                                                         0\n",
       "furnishing                                            SEMI_FURNISHED\n",
       "parking                                                  TWO_WHEELER\n",
       "property_size                                                   1000\n",
       "property_age                                                       5\n",
       "bathroom                                                           2\n",
       "facing                                                             S\n",
       "cup_board                                                          2\n",
       "floor                                                              2\n",
       "total_floor                                                        2\n",
       "amenities          {\"LIFT\":false,\"GYM\":false,\"INTERNET\":false,\"AC...\n",
       "water_supply                                               CORP_BORE\n",
       "building_type                                                     IF\n",
       "balconies                                                          1\n",
       "rent                                                           22000\n",
       "deposit                                                       220000\n",
       "Name: 0, dtype: object"
      ]
     },
     "execution_count": 10,
     "metadata": {},
     "output_type": "execute_result"
    }
   ],
   "source": [
    "data.iloc[0]"
   ]
  },
  {
   "cell_type": "code",
   "execution_count": 11,
   "metadata": {
    "colab": {
     "base_uri": "https://localhost:8080/",
     "height": 139
    },
    "colab_type": "code",
    "id": "nwJ97ZEACp2G",
    "outputId": "c5816a20-981d-4f9a-f05c-7116d14f59f9"
   },
   "outputs": [
    {
     "data": {
      "text/plain": [
       "Index(['longitude', 'latitude', 'gym', 'lift', 'swimming_pool',\n",
       "       'property_size', 'bathroom', 'floor', 'total_floor', 'balconies',\n",
       "       'building_type_AP', 'building_type_GC', 'building_type_IF',\n",
       "       'building_type_IH', 'parking_BOTH', 'parking_FOUR_WHEELER',\n",
       "       'parking_NONE', 'parking_TWO_WHEELER', 'type_BHK1', 'type_BHK2',\n",
       "       'type_BHK3', 'type_BHK4', 'type_BHK4PLUS', 'type_RK1'],\n",
       "      dtype='object')"
      ]
     },
     "execution_count": 11,
     "metadata": {},
     "output_type": "execute_result"
    }
   ],
   "source": [
    "one_hot_encoded_features.columns"
   ]
  },
  {
   "cell_type": "code",
   "execution_count": 12,
   "metadata": {
    "colab": {
     "base_uri": "https://localhost:8080/",
     "height": 350
    },
    "colab_type": "code",
    "id": "_WTMniv1BTwg",
    "outputId": "c268eb7f-71ec-4266-c88c-2857acd3dc03"
   },
   "outputs": [
    {
     "data": {
      "text/html": [
       "<div>\n",
       "<style scoped>\n",
       "    .dataframe tbody tr th:only-of-type {\n",
       "        vertical-align: middle;\n",
       "    }\n",
       "\n",
       "    .dataframe tbody tr th {\n",
       "        vertical-align: top;\n",
       "    }\n",
       "\n",
       "    .dataframe thead th {\n",
       "        text-align: right;\n",
       "    }\n",
       "</style>\n",
       "<table border=\"1\" class=\"dataframe\">\n",
       "  <thead>\n",
       "    <tr style=\"text-align: right;\">\n",
       "      <th></th>\n",
       "      <th>longitude</th>\n",
       "      <th>latitude</th>\n",
       "      <th>gym</th>\n",
       "      <th>lift</th>\n",
       "      <th>swimming_pool</th>\n",
       "      <th>property_size</th>\n",
       "      <th>bathroom</th>\n",
       "      <th>floor</th>\n",
       "      <th>total_floor</th>\n",
       "      <th>balconies</th>\n",
       "      <th>...</th>\n",
       "      <th>parking_BOTH</th>\n",
       "      <th>parking_FOUR_WHEELER</th>\n",
       "      <th>parking_NONE</th>\n",
       "      <th>parking_TWO_WHEELER</th>\n",
       "      <th>type_BHK1</th>\n",
       "      <th>type_BHK2</th>\n",
       "      <th>type_BHK3</th>\n",
       "      <th>type_BHK4</th>\n",
       "      <th>type_BHK4PLUS</th>\n",
       "      <th>type_RK1</th>\n",
       "    </tr>\n",
       "  </thead>\n",
       "  <tbody>\n",
       "    <tr>\n",
       "      <th>count</th>\n",
       "      <td>25000.000000</td>\n",
       "      <td>25000.000000</td>\n",
       "      <td>25000.00000</td>\n",
       "      <td>25000.000000</td>\n",
       "      <td>25000.000000</td>\n",
       "      <td>25000.000000</td>\n",
       "      <td>25000.000000</td>\n",
       "      <td>25000.000000</td>\n",
       "      <td>25000.000000</td>\n",
       "      <td>25000.00000</td>\n",
       "      <td>...</td>\n",
       "      <td>25000.000000</td>\n",
       "      <td>25000.000000</td>\n",
       "      <td>25000.000000</td>\n",
       "      <td>25000.000000</td>\n",
       "      <td>25000.000000</td>\n",
       "      <td>25000.000000</td>\n",
       "      <td>25000.000000</td>\n",
       "      <td>25000.000000</td>\n",
       "      <td>25000.000000</td>\n",
       "      <td>25000.000000</td>\n",
       "    </tr>\n",
       "    <tr>\n",
       "      <th>mean</th>\n",
       "      <td>77.637447</td>\n",
       "      <td>12.945900</td>\n",
       "      <td>0.22608</td>\n",
       "      <td>0.362440</td>\n",
       "      <td>0.174600</td>\n",
       "      <td>1063.764160</td>\n",
       "      <td>1.861120</td>\n",
       "      <td>1.881600</td>\n",
       "      <td>3.810480</td>\n",
       "      <td>1.15212</td>\n",
       "      <td>...</td>\n",
       "      <td>0.528680</td>\n",
       "      <td>0.069400</td>\n",
       "      <td>0.051160</td>\n",
       "      <td>0.350760</td>\n",
       "      <td>0.176360</td>\n",
       "      <td>0.568120</td>\n",
       "      <td>0.215720</td>\n",
       "      <td>0.011960</td>\n",
       "      <td>0.001520</td>\n",
       "      <td>0.026320</td>\n",
       "    </tr>\n",
       "    <tr>\n",
       "      <th>std</th>\n",
       "      <td>0.111732</td>\n",
       "      <td>0.029613</td>\n",
       "      <td>0.41830</td>\n",
       "      <td>0.480715</td>\n",
       "      <td>0.379632</td>\n",
       "      <td>591.174731</td>\n",
       "      <td>0.759589</td>\n",
       "      <td>2.187879</td>\n",
       "      <td>3.201751</td>\n",
       "      <td>1.00891</td>\n",
       "      <td>...</td>\n",
       "      <td>0.499187</td>\n",
       "      <td>0.254138</td>\n",
       "      <td>0.220328</td>\n",
       "      <td>0.477217</td>\n",
       "      <td>0.381134</td>\n",
       "      <td>0.495348</td>\n",
       "      <td>0.411329</td>\n",
       "      <td>0.108708</td>\n",
       "      <td>0.038958</td>\n",
       "      <td>0.160088</td>\n",
       "    </tr>\n",
       "    <tr>\n",
       "      <th>min</th>\n",
       "      <td>77.500072</td>\n",
       "      <td>12.900004</td>\n",
       "      <td>0.00000</td>\n",
       "      <td>0.000000</td>\n",
       "      <td>0.000000</td>\n",
       "      <td>1.000000</td>\n",
       "      <td>1.000000</td>\n",
       "      <td>0.000000</td>\n",
       "      <td>0.000000</td>\n",
       "      <td>0.00000</td>\n",
       "      <td>...</td>\n",
       "      <td>0.000000</td>\n",
       "      <td>0.000000</td>\n",
       "      <td>0.000000</td>\n",
       "      <td>0.000000</td>\n",
       "      <td>0.000000</td>\n",
       "      <td>0.000000</td>\n",
       "      <td>0.000000</td>\n",
       "      <td>0.000000</td>\n",
       "      <td>0.000000</td>\n",
       "      <td>0.000000</td>\n",
       "    </tr>\n",
       "    <tr>\n",
       "      <th>25%</th>\n",
       "      <td>77.571956</td>\n",
       "      <td>12.918511</td>\n",
       "      <td>0.00000</td>\n",
       "      <td>0.000000</td>\n",
       "      <td>0.000000</td>\n",
       "      <td>700.000000</td>\n",
       "      <td>1.000000</td>\n",
       "      <td>1.000000</td>\n",
       "      <td>2.000000</td>\n",
       "      <td>0.00000</td>\n",
       "      <td>...</td>\n",
       "      <td>0.000000</td>\n",
       "      <td>0.000000</td>\n",
       "      <td>0.000000</td>\n",
       "      <td>0.000000</td>\n",
       "      <td>0.000000</td>\n",
       "      <td>0.000000</td>\n",
       "      <td>0.000000</td>\n",
       "      <td>0.000000</td>\n",
       "      <td>0.000000</td>\n",
       "      <td>0.000000</td>\n",
       "    </tr>\n",
       "    <tr>\n",
       "      <th>50%</th>\n",
       "      <td>77.633363</td>\n",
       "      <td>12.943927</td>\n",
       "      <td>0.00000</td>\n",
       "      <td>0.000000</td>\n",
       "      <td>0.000000</td>\n",
       "      <td>1050.000000</td>\n",
       "      <td>2.000000</td>\n",
       "      <td>1.000000</td>\n",
       "      <td>3.000000</td>\n",
       "      <td>1.00000</td>\n",
       "      <td>...</td>\n",
       "      <td>1.000000</td>\n",
       "      <td>0.000000</td>\n",
       "      <td>0.000000</td>\n",
       "      <td>0.000000</td>\n",
       "      <td>0.000000</td>\n",
       "      <td>1.000000</td>\n",
       "      <td>0.000000</td>\n",
       "      <td>0.000000</td>\n",
       "      <td>0.000000</td>\n",
       "      <td>0.000000</td>\n",
       "    </tr>\n",
       "    <tr>\n",
       "      <th>75%</th>\n",
       "      <td>77.695972</td>\n",
       "      <td>12.971114</td>\n",
       "      <td>0.00000</td>\n",
       "      <td>1.000000</td>\n",
       "      <td>0.000000</td>\n",
       "      <td>1290.000000</td>\n",
       "      <td>2.000000</td>\n",
       "      <td>3.000000</td>\n",
       "      <td>4.000000</td>\n",
       "      <td>2.00000</td>\n",
       "      <td>...</td>\n",
       "      <td>1.000000</td>\n",
       "      <td>0.000000</td>\n",
       "      <td>0.000000</td>\n",
       "      <td>1.000000</td>\n",
       "      <td>0.000000</td>\n",
       "      <td>1.000000</td>\n",
       "      <td>0.000000</td>\n",
       "      <td>0.000000</td>\n",
       "      <td>0.000000</td>\n",
       "      <td>0.000000</td>\n",
       "    </tr>\n",
       "    <tr>\n",
       "      <th>max</th>\n",
       "      <td>80.266346</td>\n",
       "      <td>12.999999</td>\n",
       "      <td>1.00000</td>\n",
       "      <td>1.000000</td>\n",
       "      <td>1.000000</td>\n",
       "      <td>50000.000000</td>\n",
       "      <td>34.000000</td>\n",
       "      <td>25.000000</td>\n",
       "      <td>50.000000</td>\n",
       "      <td>22.00000</td>\n",
       "      <td>...</td>\n",
       "      <td>1.000000</td>\n",
       "      <td>1.000000</td>\n",
       "      <td>1.000000</td>\n",
       "      <td>1.000000</td>\n",
       "      <td>1.000000</td>\n",
       "      <td>1.000000</td>\n",
       "      <td>1.000000</td>\n",
       "      <td>1.000000</td>\n",
       "      <td>1.000000</td>\n",
       "      <td>1.000000</td>\n",
       "    </tr>\n",
       "  </tbody>\n",
       "</table>\n",
       "<p>8 rows × 24 columns</p>\n",
       "</div>"
      ],
      "text/plain": [
       "          longitude      latitude          gym          lift  swimming_pool  \\\n",
       "count  25000.000000  25000.000000  25000.00000  25000.000000   25000.000000   \n",
       "mean      77.637447     12.945900      0.22608      0.362440       0.174600   \n",
       "std        0.111732      0.029613      0.41830      0.480715       0.379632   \n",
       "min       77.500072     12.900004      0.00000      0.000000       0.000000   \n",
       "25%       77.571956     12.918511      0.00000      0.000000       0.000000   \n",
       "50%       77.633363     12.943927      0.00000      0.000000       0.000000   \n",
       "75%       77.695972     12.971114      0.00000      1.000000       0.000000   \n",
       "max       80.266346     12.999999      1.00000      1.000000       1.000000   \n",
       "\n",
       "       property_size      bathroom         floor   total_floor    balconies  \\\n",
       "count   25000.000000  25000.000000  25000.000000  25000.000000  25000.00000   \n",
       "mean     1063.764160      1.861120      1.881600      3.810480      1.15212   \n",
       "std       591.174731      0.759589      2.187879      3.201751      1.00891   \n",
       "min         1.000000      1.000000      0.000000      0.000000      0.00000   \n",
       "25%       700.000000      1.000000      1.000000      2.000000      0.00000   \n",
       "50%      1050.000000      2.000000      1.000000      3.000000      1.00000   \n",
       "75%      1290.000000      2.000000      3.000000      4.000000      2.00000   \n",
       "max     50000.000000     34.000000     25.000000     50.000000     22.00000   \n",
       "\n",
       "           ...       parking_BOTH  parking_FOUR_WHEELER  parking_NONE  \\\n",
       "count      ...       25000.000000          25000.000000  25000.000000   \n",
       "mean       ...           0.528680              0.069400      0.051160   \n",
       "std        ...           0.499187              0.254138      0.220328   \n",
       "min        ...           0.000000              0.000000      0.000000   \n",
       "25%        ...           0.000000              0.000000      0.000000   \n",
       "50%        ...           1.000000              0.000000      0.000000   \n",
       "75%        ...           1.000000              0.000000      0.000000   \n",
       "max        ...           1.000000              1.000000      1.000000   \n",
       "\n",
       "       parking_TWO_WHEELER     type_BHK1     type_BHK2     type_BHK3  \\\n",
       "count         25000.000000  25000.000000  25000.000000  25000.000000   \n",
       "mean              0.350760      0.176360      0.568120      0.215720   \n",
       "std               0.477217      0.381134      0.495348      0.411329   \n",
       "min               0.000000      0.000000      0.000000      0.000000   \n",
       "25%               0.000000      0.000000      0.000000      0.000000   \n",
       "50%               0.000000      0.000000      1.000000      0.000000   \n",
       "75%               1.000000      0.000000      1.000000      0.000000   \n",
       "max               1.000000      1.000000      1.000000      1.000000   \n",
       "\n",
       "          type_BHK4  type_BHK4PLUS      type_RK1  \n",
       "count  25000.000000   25000.000000  25000.000000  \n",
       "mean       0.011960       0.001520      0.026320  \n",
       "std        0.108708       0.038958      0.160088  \n",
       "min        0.000000       0.000000      0.000000  \n",
       "25%        0.000000       0.000000      0.000000  \n",
       "50%        0.000000       0.000000      0.000000  \n",
       "75%        0.000000       0.000000      0.000000  \n",
       "max        1.000000       1.000000      1.000000  \n",
       "\n",
       "[8 rows x 24 columns]"
      ]
     },
     "execution_count": 12,
     "metadata": {},
     "output_type": "execute_result"
    }
   ],
   "source": [
    "one_hot_encoded_features.describe(include='all')"
   ]
  },
  {
   "cell_type": "code",
   "execution_count": 13,
   "metadata": {
    "colab": {
     "base_uri": "https://localhost:8080/",
     "height": 451
    },
    "colab_type": "code",
    "id": "URqbY0PtDbaL",
    "outputId": "e5eec52a-25dc-48ca-c21b-51992edb7a2b"
   },
   "outputs": [
    {
     "data": {
      "text/plain": [
       "(longitude                77.504896\n",
       " latitude                 12.902789\n",
       " gym                       0.000000\n",
       " lift                      0.000000\n",
       " swimming_pool             0.000000\n",
       " property_size           850.000000\n",
       " bathroom                  1.000000\n",
       " floor                     1.000000\n",
       " total_floor               1.000000\n",
       " balconies                 2.000000\n",
       " building_type_AP          0.000000\n",
       " building_type_GC          0.000000\n",
       " building_type_IF          1.000000\n",
       " building_type_IH          0.000000\n",
       " parking_BOTH              0.000000\n",
       " parking_FOUR_WHEELER      0.000000\n",
       " parking_NONE              0.000000\n",
       " parking_TWO_WHEELER       1.000000\n",
       " type_BHK1                 1.000000\n",
       " type_BHK2                 0.000000\n",
       " type_BHK3                 0.000000\n",
       " type_BHK4                 0.000000\n",
       " type_BHK4PLUS             0.000000\n",
       " type_RK1                  0.000000\n",
       " Name: 1194, dtype: float64, 10000)"
      ]
     },
     "execution_count": 13,
     "metadata": {},
     "output_type": "execute_result"
    }
   ],
   "source": [
    "val_X.iloc[0], val_y.iloc[0]"
   ]
  },
  {
   "cell_type": "code",
   "execution_count": 14,
   "metadata": {
    "colab": {
     "base_uri": "https://localhost:8080/",
     "height": 34
    },
    "colab_type": "code",
    "id": "r-sCDOjyBk0b",
    "outputId": "7d538b18-6d21-4dc2-b92b-64cba00567c3"
   },
   "outputs": [
    {
     "data": {
      "text/plain": [
       "array([8456.397], dtype=float32)"
      ]
     },
     "execution_count": 14,
     "metadata": {},
     "output_type": "execute_result"
    }
   ],
   "source": [
    "xgb_model.predict(val_X.iloc[0:1])"
   ]
  },
  {
   "cell_type": "code",
   "execution_count": 15,
   "metadata": {
    "colab": {
     "base_uri": "https://localhost:8080/",
     "height": 34
    },
    "colab_type": "code",
    "id": "_BbSRnrzFKWq",
    "outputId": "54784bb9-b0d1-43e4-d0e9-52cfeb9699e2"
   },
   "outputs": [
    {
     "data": {
      "text/plain": [
       "(1, 24)"
      ]
     },
     "execution_count": 15,
     "metadata": {},
     "output_type": "execute_result"
    }
   ],
   "source": [
    "val_X.iloc[0:1].shape"
   ]
  },
  {
   "cell_type": "code",
   "execution_count": 16,
   "metadata": {
    "colab": {},
    "colab_type": "code",
    "collapsed": true,
    "id": "bhe0EKHCJZKs"
   },
   "outputs": [],
   "source": [
    "import numpy as np"
   ]
  },
  {
   "cell_type": "code",
   "execution_count": 17,
   "metadata": {
    "colab": {
     "base_uri": "https://localhost:8080/",
     "height": 34
    },
    "colab_type": "code",
    "id": "pB-GUbRdK-Bx",
    "outputId": "bdee5dec-faee-4ffa-e353-f083cc52ca5f"
   },
   "outputs": [
    {
     "data": {
      "text/plain": [
       "(2,)"
      ]
     },
     "execution_count": 17,
     "metadata": {},
     "output_type": "execute_result"
    }
   ],
   "source": [
    "qw = np.array([1,2])\n",
    "qw.shape"
   ]
  },
  {
   "cell_type": "code",
   "execution_count": 18,
   "metadata": {
    "colab": {},
    "colab_type": "code",
    "collapsed": true,
    "id": "WHt-pjWLF548"
   },
   "outputs": [],
   "source": [
    "c = pd.DataFrame([77,12,0,0,0,500,1,1,2,0,0,0,1,0,0,0,0,1,1,0,0,0,0,0])"
   ]
  },
  {
   "cell_type": "code",
   "execution_count": 19,
   "metadata": {
    "colab": {},
    "colab_type": "code",
    "collapsed": true,
    "id": "knqNmbmsGa4_"
   },
   "outputs": [],
   "source": [
    "c=c.transpose()"
   ]
  },
  {
   "cell_type": "code",
   "execution_count": 20,
   "metadata": {
    "colab": {
     "base_uri": "https://localhost:8080/",
     "height": 34
    },
    "colab_type": "code",
    "id": "XxGaTujIGcyK",
    "outputId": "a0f80982-7a5f-4569-f52d-e457d3a14200"
   },
   "outputs": [
    {
     "data": {
      "text/plain": [
       "(1, 24)"
      ]
     },
     "execution_count": 20,
     "metadata": {},
     "output_type": "execute_result"
    }
   ],
   "source": [
    "c.shape"
   ]
  },
  {
   "cell_type": "code",
   "execution_count": 21,
   "metadata": {
    "colab": {},
    "colab_type": "code",
    "collapsed": true,
    "id": "0Jl9zVl1NC7U"
   },
   "outputs": [],
   "source": [
    "c.columns = one_hot_encoded_features.columns"
   ]
  },
  {
   "cell_type": "code",
   "execution_count": 22,
   "metadata": {
    "colab": {
     "base_uri": "https://localhost:8080/",
     "height": 34
    },
    "colab_type": "code",
    "id": "8Pg7m5kuMcAf",
    "outputId": "0798f487-d8c8-4e3a-ab6c-1cc15e2d950c"
   },
   "outputs": [
    {
     "data": {
      "text/plain": [
       "array([6762.5913], dtype=float32)"
      ]
     },
     "execution_count": 22,
     "metadata": {},
     "output_type": "execute_result"
    }
   ],
   "source": [
    "xgb_model.predict(c)"
   ]
  }
 ],
 "metadata": {
  "colab": {
   "collapsed_sections": [],
   "include_colab_link": true,
   "name": "Banglore_house_rent_prediction.ipynb",
   "provenance": [],
   "version": "0.3.2"
  },
  "kernelspec": {
   "display_name": "Python 3",
   "language": "python",
   "name": "python3"
  },
  "language_info": {
   "codemirror_mode": {
    "name": "ipython",
    "version": 3
   },
   "file_extension": ".py",
   "mimetype": "text/x-python",
   "name": "python",
   "nbconvert_exporter": "python",
   "pygments_lexer": "ipython3",
   "version": "3.6.3"
  }
 },
 "nbformat": 4,
 "nbformat_minor": 1
}
