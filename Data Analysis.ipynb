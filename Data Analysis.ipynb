{
 "cells": [
  {
   "cell_type": "markdown",
   "metadata": {},
   "source": [
    "# Model Evaluation & Validation\n",
    "\n",
    "### Project: Predicting Housing Price: Data Visualization"
   ]
  },
  {
   "cell_type": "code",
   "execution_count": 8,
   "metadata": {},
   "outputs": [
    {
     "name": "stdout",
     "output_type": "stream",
     "text": [
      "Housing dataset has 25000 data points with 26 variables each.\n"
     ]
    }
   ],
   "source": [
    "# Import libraries necessary for this project\n",
    "import numpy as np\n",
    "import pandas as pd\n",
    "import pickle\n",
    "from sklearn.cross_validation import ShuffleSplit\n",
    "\n",
    "# Pretty display for notebooks\n",
    "%matplotlib inline\n",
    "\n",
    "# Load housing dataset\n",
    "data = pd.read_csv('DataSet_pricing_model.csv')\n",
    "\n",
    "# Success\n",
    "print (\"Housing dataset has {} data points with {} variables each.\".format(*data.shape))"
   ]
  },
  {
   "cell_type": "code",
   "execution_count": 9,
   "metadata": {},
   "outputs": [
    {
     "data": {
      "text/plain": [
       "Index(['id', 'type', 'locality', 'activation_date', 'latitude', 'longitude',\n",
       "       'lease_type', 'gym', 'lift', 'swimming_pool', 'negotiable',\n",
       "       'furnishing', 'parking', 'property_size', 'property_age', 'bathroom',\n",
       "       'facing', 'cup_board', 'floor', 'total_floor', 'amenities',\n",
       "       'water_supply', 'building_type', 'balconies', 'rent', 'deposit'],\n",
       "      dtype='object')"
      ]
     },
     "execution_count": 9,
     "metadata": {},
     "output_type": "execute_result"
    }
   ],
   "source": [
    "# Feature of datatype\n",
    "data.columns\n"
   ]
  },
  {
   "cell_type": "code",
   "execution_count": 10,
   "metadata": {},
   "outputs": [
    {
     "data": {
      "text/plain": [
       "id                  object\n",
       "type                object\n",
       "locality            object\n",
       "activation_date     object\n",
       "latitude           float64\n",
       "longitude          float64\n",
       "lease_type          object\n",
       "gym                  int64\n",
       "lift                 int64\n",
       "swimming_pool        int64\n",
       "negotiable           int64\n",
       "furnishing          object\n",
       "parking             object\n",
       "property_size        int64\n",
       "property_age       float64\n",
       "bathroom             int64\n",
       "facing              object\n",
       "cup_board          float64\n",
       "floor                int64\n",
       "total_floor        float64\n",
       "amenities           object\n",
       "water_supply        object\n",
       "building_type       object\n",
       "balconies          float64\n",
       "rent                 int64\n",
       "deposit            float64\n",
       "dtype: object"
      ]
     },
     "execution_count": 10,
     "metadata": {},
     "output_type": "execute_result"
    }
   ],
   "source": [
    "# view datatypes of each column\n",
    "data.dtypes"
   ]
  },
  {
   "cell_type": "code",
   "execution_count": 15,
   "metadata": {
    "collapsed": true
   },
   "outputs": [],
   "source": [
    "features_corelated = ['longitude', 'latitude', 'gym', 'lift', 'swimming_pool', 'property_size', 'bathroom', 'floor', 'total_floor', 'balconies', 'building_type', 'parking', 'type']"
   ]
  },
  {
   "cell_type": "code",
   "execution_count": 11,
   "metadata": {
    "collapsed": true
   },
   "outputs": [],
   "source": [
    "# set target\n",
    "y = data.rent"
   ]
  },
  {
   "cell_type": "code",
   "execution_count": 17,
   "metadata": {
    "collapsed": true
   },
   "outputs": [],
   "source": [
    "encoded_features = pd.get_dummies(data[features_corelated])"
   ]
  },
  {
   "cell_type": "code",
   "execution_count": 18,
   "metadata": {},
   "outputs": [
    {
     "data": {
      "text/html": [
       "<div>\n",
       "<style scoped>\n",
       "    .dataframe tbody tr th:only-of-type {\n",
       "        vertical-align: middle;\n",
       "    }\n",
       "\n",
       "    .dataframe tbody tr th {\n",
       "        vertical-align: top;\n",
       "    }\n",
       "\n",
       "    .dataframe thead th {\n",
       "        text-align: right;\n",
       "    }\n",
       "</style>\n",
       "<table border=\"1\" class=\"dataframe\">\n",
       "  <thead>\n",
       "    <tr style=\"text-align: right;\">\n",
       "      <th></th>\n",
       "      <th>longitude</th>\n",
       "      <th>latitude</th>\n",
       "      <th>gym</th>\n",
       "      <th>lift</th>\n",
       "      <th>swimming_pool</th>\n",
       "      <th>property_size</th>\n",
       "      <th>bathroom</th>\n",
       "      <th>floor</th>\n",
       "      <th>total_floor</th>\n",
       "      <th>balconies</th>\n",
       "      <th>...</th>\n",
       "      <th>parking_BOTH</th>\n",
       "      <th>parking_FOUR_WHEELER</th>\n",
       "      <th>parking_NONE</th>\n",
       "      <th>parking_TWO_WHEELER</th>\n",
       "      <th>type_BHK1</th>\n",
       "      <th>type_BHK2</th>\n",
       "      <th>type_BHK3</th>\n",
       "      <th>type_BHK4</th>\n",
       "      <th>type_BHK4PLUS</th>\n",
       "      <th>type_RK1</th>\n",
       "    </tr>\n",
       "  </thead>\n",
       "  <tbody>\n",
       "    <tr>\n",
       "      <th>count</th>\n",
       "      <td>25000.000000</td>\n",
       "      <td>25000.000000</td>\n",
       "      <td>25000.00000</td>\n",
       "      <td>25000.000000</td>\n",
       "      <td>25000.000000</td>\n",
       "      <td>25000.000000</td>\n",
       "      <td>25000.000000</td>\n",
       "      <td>25000.000000</td>\n",
       "      <td>25000.000000</td>\n",
       "      <td>25000.00000</td>\n",
       "      <td>...</td>\n",
       "      <td>25000.000000</td>\n",
       "      <td>25000.000000</td>\n",
       "      <td>25000.000000</td>\n",
       "      <td>25000.000000</td>\n",
       "      <td>25000.000000</td>\n",
       "      <td>25000.000000</td>\n",
       "      <td>25000.000000</td>\n",
       "      <td>25000.000000</td>\n",
       "      <td>25000.000000</td>\n",
       "      <td>25000.000000</td>\n",
       "    </tr>\n",
       "    <tr>\n",
       "      <th>mean</th>\n",
       "      <td>77.637447</td>\n",
       "      <td>12.945900</td>\n",
       "      <td>0.22608</td>\n",
       "      <td>0.362440</td>\n",
       "      <td>0.174600</td>\n",
       "      <td>1063.764160</td>\n",
       "      <td>1.861120</td>\n",
       "      <td>1.881600</td>\n",
       "      <td>3.810480</td>\n",
       "      <td>1.15212</td>\n",
       "      <td>...</td>\n",
       "      <td>0.528680</td>\n",
       "      <td>0.069400</td>\n",
       "      <td>0.051160</td>\n",
       "      <td>0.350760</td>\n",
       "      <td>0.176360</td>\n",
       "      <td>0.568120</td>\n",
       "      <td>0.215720</td>\n",
       "      <td>0.011960</td>\n",
       "      <td>0.001520</td>\n",
       "      <td>0.026320</td>\n",
       "    </tr>\n",
       "    <tr>\n",
       "      <th>std</th>\n",
       "      <td>0.111732</td>\n",
       "      <td>0.029613</td>\n",
       "      <td>0.41830</td>\n",
       "      <td>0.480715</td>\n",
       "      <td>0.379632</td>\n",
       "      <td>591.174731</td>\n",
       "      <td>0.759589</td>\n",
       "      <td>2.187879</td>\n",
       "      <td>3.201751</td>\n",
       "      <td>1.00891</td>\n",
       "      <td>...</td>\n",
       "      <td>0.499187</td>\n",
       "      <td>0.254138</td>\n",
       "      <td>0.220328</td>\n",
       "      <td>0.477217</td>\n",
       "      <td>0.381134</td>\n",
       "      <td>0.495348</td>\n",
       "      <td>0.411329</td>\n",
       "      <td>0.108708</td>\n",
       "      <td>0.038958</td>\n",
       "      <td>0.160088</td>\n",
       "    </tr>\n",
       "    <tr>\n",
       "      <th>min</th>\n",
       "      <td>77.500072</td>\n",
       "      <td>12.900004</td>\n",
       "      <td>0.00000</td>\n",
       "      <td>0.000000</td>\n",
       "      <td>0.000000</td>\n",
       "      <td>1.000000</td>\n",
       "      <td>1.000000</td>\n",
       "      <td>0.000000</td>\n",
       "      <td>0.000000</td>\n",
       "      <td>0.00000</td>\n",
       "      <td>...</td>\n",
       "      <td>0.000000</td>\n",
       "      <td>0.000000</td>\n",
       "      <td>0.000000</td>\n",
       "      <td>0.000000</td>\n",
       "      <td>0.000000</td>\n",
       "      <td>0.000000</td>\n",
       "      <td>0.000000</td>\n",
       "      <td>0.000000</td>\n",
       "      <td>0.000000</td>\n",
       "      <td>0.000000</td>\n",
       "    </tr>\n",
       "    <tr>\n",
       "      <th>25%</th>\n",
       "      <td>77.571956</td>\n",
       "      <td>12.918511</td>\n",
       "      <td>0.00000</td>\n",
       "      <td>0.000000</td>\n",
       "      <td>0.000000</td>\n",
       "      <td>700.000000</td>\n",
       "      <td>1.000000</td>\n",
       "      <td>1.000000</td>\n",
       "      <td>2.000000</td>\n",
       "      <td>0.00000</td>\n",
       "      <td>...</td>\n",
       "      <td>0.000000</td>\n",
       "      <td>0.000000</td>\n",
       "      <td>0.000000</td>\n",
       "      <td>0.000000</td>\n",
       "      <td>0.000000</td>\n",
       "      <td>0.000000</td>\n",
       "      <td>0.000000</td>\n",
       "      <td>0.000000</td>\n",
       "      <td>0.000000</td>\n",
       "      <td>0.000000</td>\n",
       "    </tr>\n",
       "    <tr>\n",
       "      <th>50%</th>\n",
       "      <td>77.633363</td>\n",
       "      <td>12.943927</td>\n",
       "      <td>0.00000</td>\n",
       "      <td>0.000000</td>\n",
       "      <td>0.000000</td>\n",
       "      <td>1050.000000</td>\n",
       "      <td>2.000000</td>\n",
       "      <td>1.000000</td>\n",
       "      <td>3.000000</td>\n",
       "      <td>1.00000</td>\n",
       "      <td>...</td>\n",
       "      <td>1.000000</td>\n",
       "      <td>0.000000</td>\n",
       "      <td>0.000000</td>\n",
       "      <td>0.000000</td>\n",
       "      <td>0.000000</td>\n",
       "      <td>1.000000</td>\n",
       "      <td>0.000000</td>\n",
       "      <td>0.000000</td>\n",
       "      <td>0.000000</td>\n",
       "      <td>0.000000</td>\n",
       "    </tr>\n",
       "    <tr>\n",
       "      <th>75%</th>\n",
       "      <td>77.695972</td>\n",
       "      <td>12.971114</td>\n",
       "      <td>0.00000</td>\n",
       "      <td>1.000000</td>\n",
       "      <td>0.000000</td>\n",
       "      <td>1290.000000</td>\n",
       "      <td>2.000000</td>\n",
       "      <td>3.000000</td>\n",
       "      <td>4.000000</td>\n",
       "      <td>2.00000</td>\n",
       "      <td>...</td>\n",
       "      <td>1.000000</td>\n",
       "      <td>0.000000</td>\n",
       "      <td>0.000000</td>\n",
       "      <td>1.000000</td>\n",
       "      <td>0.000000</td>\n",
       "      <td>1.000000</td>\n",
       "      <td>0.000000</td>\n",
       "      <td>0.000000</td>\n",
       "      <td>0.000000</td>\n",
       "      <td>0.000000</td>\n",
       "    </tr>\n",
       "    <tr>\n",
       "      <th>max</th>\n",
       "      <td>80.266346</td>\n",
       "      <td>12.999999</td>\n",
       "      <td>1.00000</td>\n",
       "      <td>1.000000</td>\n",
       "      <td>1.000000</td>\n",
       "      <td>50000.000000</td>\n",
       "      <td>34.000000</td>\n",
       "      <td>25.000000</td>\n",
       "      <td>50.000000</td>\n",
       "      <td>22.00000</td>\n",
       "      <td>...</td>\n",
       "      <td>1.000000</td>\n",
       "      <td>1.000000</td>\n",
       "      <td>1.000000</td>\n",
       "      <td>1.000000</td>\n",
       "      <td>1.000000</td>\n",
       "      <td>1.000000</td>\n",
       "      <td>1.000000</td>\n",
       "      <td>1.000000</td>\n",
       "      <td>1.000000</td>\n",
       "      <td>1.000000</td>\n",
       "    </tr>\n",
       "  </tbody>\n",
       "</table>\n",
       "<p>8 rows × 24 columns</p>\n",
       "</div>"
      ],
      "text/plain": [
       "          longitude      latitude          gym          lift  swimming_pool  \\\n",
       "count  25000.000000  25000.000000  25000.00000  25000.000000   25000.000000   \n",
       "mean      77.637447     12.945900      0.22608      0.362440       0.174600   \n",
       "std        0.111732      0.029613      0.41830      0.480715       0.379632   \n",
       "min       77.500072     12.900004      0.00000      0.000000       0.000000   \n",
       "25%       77.571956     12.918511      0.00000      0.000000       0.000000   \n",
       "50%       77.633363     12.943927      0.00000      0.000000       0.000000   \n",
       "75%       77.695972     12.971114      0.00000      1.000000       0.000000   \n",
       "max       80.266346     12.999999      1.00000      1.000000       1.000000   \n",
       "\n",
       "       property_size      bathroom         floor   total_floor    balconies  \\\n",
       "count   25000.000000  25000.000000  25000.000000  25000.000000  25000.00000   \n",
       "mean     1063.764160      1.861120      1.881600      3.810480      1.15212   \n",
       "std       591.174731      0.759589      2.187879      3.201751      1.00891   \n",
       "min         1.000000      1.000000      0.000000      0.000000      0.00000   \n",
       "25%       700.000000      1.000000      1.000000      2.000000      0.00000   \n",
       "50%      1050.000000      2.000000      1.000000      3.000000      1.00000   \n",
       "75%      1290.000000      2.000000      3.000000      4.000000      2.00000   \n",
       "max     50000.000000     34.000000     25.000000     50.000000     22.00000   \n",
       "\n",
       "           ...       parking_BOTH  parking_FOUR_WHEELER  parking_NONE  \\\n",
       "count      ...       25000.000000          25000.000000  25000.000000   \n",
       "mean       ...           0.528680              0.069400      0.051160   \n",
       "std        ...           0.499187              0.254138      0.220328   \n",
       "min        ...           0.000000              0.000000      0.000000   \n",
       "25%        ...           0.000000              0.000000      0.000000   \n",
       "50%        ...           1.000000              0.000000      0.000000   \n",
       "75%        ...           1.000000              0.000000      0.000000   \n",
       "max        ...           1.000000              1.000000      1.000000   \n",
       "\n",
       "       parking_TWO_WHEELER     type_BHK1     type_BHK2     type_BHK3  \\\n",
       "count         25000.000000  25000.000000  25000.000000  25000.000000   \n",
       "mean              0.350760      0.176360      0.568120      0.215720   \n",
       "std               0.477217      0.381134      0.495348      0.411329   \n",
       "min               0.000000      0.000000      0.000000      0.000000   \n",
       "25%               0.000000      0.000000      0.000000      0.000000   \n",
       "50%               0.000000      0.000000      1.000000      0.000000   \n",
       "75%               1.000000      0.000000      1.000000      0.000000   \n",
       "max               1.000000      1.000000      1.000000      1.000000   \n",
       "\n",
       "          type_BHK4  type_BHK4PLUS      type_RK1  \n",
       "count  25000.000000   25000.000000  25000.000000  \n",
       "mean       0.011960       0.001520      0.026320  \n",
       "std        0.108708       0.038958      0.160088  \n",
       "min        0.000000       0.000000      0.000000  \n",
       "25%        0.000000       0.000000      0.000000  \n",
       "50%        0.000000       0.000000      0.000000  \n",
       "75%        0.000000       0.000000      0.000000  \n",
       "max        1.000000       1.000000      1.000000  \n",
       "\n",
       "[8 rows x 24 columns]"
      ]
     },
     "execution_count": 18,
     "metadata": {},
     "output_type": "execute_result"
    }
   ],
   "source": [
    "encoded_features.describe()"
   ]
  },
  {
   "cell_type": "markdown",
   "metadata": {},
   "source": [
    "### To see corelation between features and target value,We have plotted here a corelation matrix.\n",
    "\n",
    "#### Then we decided to keep features which are corelated to target value"
   ]
  },
  {
   "cell_type": "code",
   "execution_count": 13,
   "metadata": {},
   "outputs": [
    {
     "data": {
      "text/plain": [
       "<matplotlib.image.AxesImage at 0x1b83c0c92b0>"
      ]
     },
     "execution_count": 13,
     "metadata": {},
     "output_type": "execute_result"
    },
    {
     "data": {
      "image/png": "[encoded data removed]",
      "text/plain": [
       "<Figure size 288x288 with 1 Axes>"
      ]
     },
     "metadata": {},
     "output_type": "display_data"
    }
   ],
   "source": [
    "# Find Corelation\n",
    "import matplotlib.pyplot as plt\n",
    "\n",
    "plt.matshow(data.corr())"
   ]
  },
  {
   "cell_type": "code",
   "execution_count": 14,
   "metadata": {},
   "outputs": [
    {
     "data": {
      "text/plain": [
       "<matplotlib.axes._subplots.AxesSubplot at 0x1b83cb99710>"
      ]
     },
     "execution_count": 14,
     "metadata": {},
     "output_type": "execute_result"
    },
    {
     "data": {
      "image/png": "[encoded data removed]",
      "text/plain": [
       "<Figure size 432x288 with 2 Axes>"
      ]
     },
     "metadata": {},
     "output_type": "display_data"
    }
   ],
   "source": [
    "import seaborn as sns\n",
    "corr = data.corr()\n",
    "sns.heatmap(corr, \n",
    "            xticklabels=corr.columns.values,\n",
    "            yticklabels=corr.columns.values)\n"
   ]
  },
  {
   "cell_type": "code",
   "execution_count": 21,
   "metadata": {},
   "outputs": [],
   "source": [
    "# Split into validation and training data\n",
    "from sklearn.model_selection import train_test_split\n",
    "train_X, val_X, train_y, val_y = train_test_split(encoded_features, y, test_size=0.2)"
   ]
  },
  {
   "cell_type": "code",
   "execution_count": null,
   "metadata": {
    "collapsed": true
   },
   "outputs": [],
   "source": []
  }
 ],
 "metadata": {
  "kernelspec": {
   "display_name": "Python 3",
   "language": "python",
   "name": "python3"
  },
  "language_info": {
   "codemirror_mode": {
    "name": "ipython",
    "version": 3
   },
   "file_extension": ".py",
   "mimetype": "text/x-python",
   "name": "python",
   "nbconvert_exporter": "python",
   "pygments_lexer": "ipython3",
   "version": "3.6.3"
  }
 },
 "nbformat": 4,
 "nbformat_minor": 2
}
