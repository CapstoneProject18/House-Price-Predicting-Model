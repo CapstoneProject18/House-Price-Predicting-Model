{
 "cells": [
  {
   "cell_type": "markdown",
   "metadata": {},
   "source": [
    "# Model Evaluation & Validation\n",
    "\n",
    "### Project: Predicting Housing Price: Data Visualization"
   ]
  },
  {
   "cell_type": "code",
   "execution_count": 2,
   "metadata": {},
   "outputs": [
    {
     "name": "stdout",
     "output_type": "stream",
     "text": [
      "Housing dataset has 25000 data points with 26 variables each.\n"
     ]
    }
   ],
   "source": [
    "# Import libraries necessary for this project\n",
    "import numpy as np\n",
    "import pandas as pd\n",
    "from sklearn.cross_validation import ShuffleSplit\n",
    "\n",
    "# Pretty display for notebooks\n",
    "%matplotlib inline\n",
    "\n",
    "# Load housing dataset\n",
    "data = pd.read_csv('DataSet_pricing_model.csv')\n",
    "\n",
    "# Success\n",
    "print (\"Housing dataset has {} data points with {} variables each.\".format(*data.shape))"
   ]
  },
  {
   "cell_type": "code",
   "execution_count": 3,
   "metadata": {},
   "outputs": [
    {
     "data": {
      "text/plain": [
       "Index(['id', 'type', 'locality', 'activation_date', 'latitude', 'longitude',\n",
       "       'lease_type', 'gym', 'lift', 'swimming_pool', 'negotiable',\n",
       "       'furnishing', 'parking', 'property_size', 'property_age', 'bathroom',\n",
       "       'facing', 'cup_board', 'floor', 'total_floor', 'amenities',\n",
       "       'water_supply', 'building_type', 'balconies', 'rent', 'deposit'],\n",
       "      dtype='object')"
      ]
     },
     "execution_count": 3,
     "metadata": {},
     "output_type": "execute_result"
    }
   ],
   "source": [
    "# Feature of datatype\n",
    "data.columns\n"
   ]
  },
  {
   "cell_type": "code",
   "execution_count": 4,
   "metadata": {},
   "outputs": [
    {
     "data": {
      "text/plain": [
       "id                  object\n",
       "type                object\n",
       "locality            object\n",
       "activation_date     object\n",
       "latitude           float64\n",
       "longitude          float64\n",
       "lease_type          object\n",
       "gym                  int64\n",
       "lift                 int64\n",
       "swimming_pool        int64\n",
       "negotiable           int64\n",
       "furnishing          object\n",
       "parking             object\n",
       "property_size        int64\n",
       "property_age       float64\n",
       "bathroom             int64\n",
       "facing              object\n",
       "cup_board          float64\n",
       "floor                int64\n",
       "total_floor        float64\n",
       "amenities           object\n",
       "water_supply        object\n",
       "building_type       object\n",
       "balconies          float64\n",
       "rent                 int64\n",
       "deposit            float64\n",
       "dtype: object"
      ]
     },
     "execution_count": 4,
     "metadata": {},
     "output_type": "execute_result"
    }
   ],
   "source": [
    "# view datatypes of each column\n",
    "data.dtypes"
   ]
  },
  {
   "cell_type": "code",
   "execution_count": 5,
   "metadata": {
    "collapsed": true
   },
   "outputs": [],
   "source": [
    "# set target\n",
    "y = data.rent"
   ]
  },
  {
   "cell_type": "markdown",
   "metadata": {},
   "source": [
    "### To see corelation between features and target value,We have plotted here a corelation matrix.\n",
    "\n",
    "#### Then we decided to keep features which are corelated to target value"
   ]
  },
  {
   "cell_type": "code",
   "execution_count": 6,
   "metadata": {},
   "outputs": [
    {
     "data": {
      "text/plain": [
       "<matplotlib.image.AxesImage at 0x1fd75d547f0>"
      ]
     },
     "execution_count": 6,
     "metadata": {},
     "output_type": "execute_result"
    }
   ],
   "source": [
    "# Find Corelation\n",
    "import matplotlib.pyplot as plt\n",
    "\n",
    "plt.matshow(data.corr())"
   ]
  },
  {
   "cell_type": "code",
   "execution_count": 7,
   "metadata": {},
   "outputs": [
    {
     "data": {
      "text/plain": [
       "<matplotlib.axes._axes.Axes at 0x1fd75c034a8>"
      ]
     },
     "execution_count": 7,
     "metadata": {},
     "output_type": "execute_result"
    }
   ],
   "source": [
    "import seaborn as sns\n",
    "corr = data.corr()\n",
    "sns.heatmap(corr, \n",
    "            xticklabels=corr.columns.values,\n",
    "            yticklabels=corr.columns.values)\n"
   ]
  },
  {
   "cell_type": "code",
   "execution_count": null,
   "metadata": {
    "collapsed": true
   },
   "outputs": [],
   "source": []
  }
 ],
 "metadata": {
  "kernelspec": {
   "display_name": "Python 3",
   "language": "python",
   "name": "python3"
  },
  "language_info": {
   "codemirror_mode": {
    "name": "ipython",
    "version": 3
   },
   "file_extension": ".py",
   "mimetype": "text/x-python",
   "name": "python",
   "nbconvert_exporter": "python",
   "pygments_lexer": "ipython3",
   "version": "3.6.3"
  }
 },
 "nbformat": 4,
 "nbformat_minor": 2
}
